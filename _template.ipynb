{
 "cells": [
  {
   "cell_type": "markdown",
   "metadata": {},
   "source": [
    "<center><h1>Title</h1></center>"
   ]
  },
  {
   "cell_type": "code",
   "execution_count": 5,
   "metadata": {
    "collapsed": false
   },
   "outputs": [
    {
     "data": {
      "text/html": [
       "\n",
       "    <style>\n",
       "    body {\n",
       "      font-size: 20px;\n",
       "      font-family: 'Lora', serif;\n",
       "      color: #444;\n",
       "      }\n",
       "\n",
       "    h1 {\n",
       "      font-size: 180%;\n",
       "      line-height: 135%;\n",
       "      font-family: 'Open Sans', sans-serif;\n",
       "      text-align: center;\n",
       "      margin: 0 0 60px;\n",
       "      padding: 0 40px;\n",
       "      }\n",
       "\n",
       "    h1, h2, h3, h4, h5, h6 { \n",
       "      padding: 0 40px; \n",
       "      margin-top: 40px;\n",
       "      color: #444;\n",
       "      }\n",
       "\n",
       "    h2 {\n",
       "        font-size: 28px;\n",
       "        font-style: italic;\n",
       "        font-family: 'Lora', serif;\n",
       "    }\n",
       "\n",
       "    p {\n",
       "      font-family: 'Lora', serif;\n",
       "      line-height: 160%;\n",
       "      font-size: 100%;\n",
       "      margin-bottom: 0;\n",
       "      color: #444;\n",
       "      }\n",
       "\n",
       "    </style>\n",
       "\n",
       "    <script>\n",
       "    $('div.input').show();\n",
       "    $('div.output_prompt').css('display','flex');\n",
       "    $('div.input_prompt').css('display','flex');\n",
       "    \n",
       "    \n",
       "    var filename = \"http://fonts.googleapis.com/css?family=Open+Sans:400italic,400,300,700|Lora:400,700,400italic\";\n",
       "    var fileref=document.createElement(\"link\")\n",
       "        fileref.setAttribute(\"rel\", \"stylesheet\")\n",
       "        fileref.setAttribute(\"type\", \"text/css\")\n",
       "        fileref.setAttribute(\"href\", filename)\n",
       "    document.getElementsByTagName(\"head\")[0].appendChild(fileref)\n",
       "    </script>\n",
       "\n"
      ],
      "text/plain": [
       "<IPython.core.display.HTML object>"
      ]
     },
     "execution_count": 5,
     "metadata": {},
     "output_type": "execute_result"
    }
   ],
   "source": [
    "from IPython.display import HTML\n",
    "\n",
    "HTML(\"\"\"\n",
    "    <style>\n",
    "    body {\n",
    "      font-size: 20px;\n",
    "      font-family: 'Lora', serif;\n",
    "      color: #444;\n",
    "      }\n",
    "\n",
    "    h1 {\n",
    "      font-size: 180%;\n",
    "      line-height: 135%;\n",
    "      font-family: 'Open Sans', sans-serif;\n",
    "      text-align: center;\n",
    "      margin: 0 0 60px;\n",
    "      padding: 0 40px;\n",
    "      }\n",
    "\n",
    "    h1, h2, h3, h4, h5, h6 { \n",
    "      padding: 0 40px; \n",
    "      margin-top: 40px;\n",
    "      color: #444;\n",
    "      }\n",
    "\n",
    "    h2 {\n",
    "        font-size: 28px;\n",
    "        font-style: italic;\n",
    "        font-family: 'Lora', serif;\n",
    "    }\n",
    "\n",
    "    p {\n",
    "      font-family: 'Lora', serif;\n",
    "      line-height: 160%;\n",
    "      font-size: 100%;\n",
    "      margin-bottom: 0;\n",
    "      color: #444;\n",
    "      }\n",
    "\n",
    "    </style>\n",
    "\n",
    "    <script>\n",
    "    $('div.input').show();\n",
    "    $('div.output_prompt').css('display','flex');\n",
    "    $('div.input_prompt').css('display','flex');\n",
    "    \n",
    "    \n",
    "    var filename = \"http://fonts.googleapis.com/css?family=Open+Sans:400italic,400,300,700|Lora:400,700,400italic\";\n",
    "    var fileref=document.createElement(\"link\")\n",
    "        fileref.setAttribute(\"rel\", \"stylesheet\")\n",
    "        fileref.setAttribute(\"type\", \"text/css\")\n",
    "        fileref.setAttribute(\"href\", filename)\n",
    "    document.getElementsByTagName(\"head\")[0].appendChild(fileref)\n",
    "    </script>\n",
    "\n",
    "\"\"\")"
   ]
  },
  {
   "cell_type": "markdown",
   "metadata": {},
   "source": [
    "Some text"
   ]
  },
  {
   "cell_type": "code",
   "execution_count": 6,
   "metadata": {
    "collapsed": false
   },
   "outputs": [
    {
     "data": {
      "text/html": [
       "\n",
       "<center>\n",
       "<a href=\"https://twitter.com/share\" class=\"twitter-share-button\" data-via=\"Bibmartin_\">Tweet</a>\n",
       "<script>!function(d,s,id){var js,fjs=d.getElementsByTagName(s)[0],p=/^http:/.test(d.location)?'http':'https';if(!d.getElementById(id)){js=d.createElement(s);js.id=id;js.src=p+'://platform.twitter.com/widgets.js';fjs.parentNode.insertBefore(js,fjs);}}(document, 'script', 'twitter-wjs');</script>\n",
       "</center>    \n",
       "<script>$('div.input').hide();$('div.output_prompt').css('display','none');$('div.input_prompt').css('display','none');</script>"
      ],
      "text/plain": [
       "<IPython.core.display.HTML object>"
      ]
     },
     "execution_count": 6,
     "metadata": {},
     "output_type": "execute_result"
    }
   ],
   "source": [
    "HTML(\"\"\"\n",
    "<center>\n",
    "<a href=\"https://twitter.com/share\" class=\"twitter-share-button\" data-via=\"Bibmartin_\">Tweet</a>\n",
    "<script>!function(d,s,id){var js,fjs=d.getElementsByTagName(s)[0],p=/^http:/.test(d.location)?'http':'https';if(!d.getElementById(id)){js=d.createElement(s);js.id=id;js.src=p+'://platform.twitter.com/widgets.js';fjs.parentNode.insertBefore(js,fjs);}}(document, 'script', 'twitter-wjs');</script>\n",
    "</center>    \n",
    "\"\"\"     \n",
    "    +\"<script>\"\n",
    "    \"$('div.input').hide();\"\n",
    "    \"$('div.output_prompt').css('display','none');\"\n",
    "    \"$('div.input_prompt').css('display','none');\"\n",
    "    \"</script>\"\n",
    "    )"
   ]
  },
  {
   "cell_type": "code",
   "execution_count": null,
   "metadata": {
    "collapsed": true
   },
   "outputs": [],
   "source": []
  }
 ],
 "metadata": {
  "kernelspec": {
   "display_name": "py35b",
   "language": "python",
   "name": "py35b"
  },
  "language_info": {
   "codemirror_mode": {
    "name": "ipython",
    "version": 3
   },
   "file_extension": ".py",
   "mimetype": "text/x-python",
   "name": "python",
   "nbconvert_exporter": "python",
   "pygments_lexer": "ipython3",
   "version": "3.5.1"
  }
 },
 "nbformat": 4,
 "nbformat_minor": 0
}
